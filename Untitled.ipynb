{
  "nbformat": 4,
  "nbformat_minor": 0,
  "metadata": {
    "colab": {
      "provenance": [],
      "authorship_tag": "ABX9TyNtyJHSr2mVPF51kraJk0yN",
      "include_colab_link": true
    },
    "kernelspec": {
      "name": "python3",
      "display_name": "Python 3"
    },
    "language_info": {
      "name": "python"
    }
  },
  "cells": [
    {
      "cell_type": "markdown",
      "metadata": {
        "id": "view-in-github",
        "colab_type": "text"
      },
      "source": [
        "<a href=\"https://colab.research.google.com/github/karthikraja1008/roop/blob/master/Untitled.ipynb\" target=\"_parent\"><img src=\"https://colab.research.google.com/assets/colab-badge.svg\" alt=\"Open In Colab\"/></a>"
      ]
    },
    {
      "cell_type": "code",
      "execution_count": null,
      "metadata": {
        "id": "xo9fuW1PSWdy"
      },
      "outputs": [],
      "source": [
        "!git clone https://github.com/karthikraja1008/roop\n",
        "%cd roop\n",
        "#Tested and updated 23 August 2023 commit\n",
        "#!git checkout da1ef285f1d43bd0cc8b9cdb9a0f80f7ae793a97\n",
        "!pip install onnxruntime-gpu==1.21.0 && pip install -r requirements.txt\n",
        "!pip install onnxruntime-gpu==1.21.0 --upgrade\n",
        "!apt-get update --yes\n",
        "!apt install nvidia-cuda-toolkit --yes\n",
        "!pip install opennsfw2 keras --upgrade\n",
        "!pip install numpy==1.26.1\n",
        "\n",
        "#ignore below errors when you see\n",
        "#ERROR: pip's dependency resolver does not currently take into account all the packages that are installed. This behaviour is the source of the following dependency conflicts.\n",
        "#tensorflow 2.14.0 requires keras<2.15,>=2.14.0, but you have keras 3.9.0 which is incompatible.\n",
        "#tensorflow-text 2.18.1 requires tensorflow<2.19,>=2.18.0, but you have tensorflow 2.14.0 which is incompatible.\n",
        "#tf-keras 2.18.0 requires tensorflow<2.19,>=2.18, but you have tensorflow 2.14.0 which is incompatible."
      ]
    },
    {
      "cell_type": "code",
      "source": [
        "\n",
        "%cd \"/content/roop\"\n",
        "!python run.py \\\n",
        "  -s \"face.png\" \\\n",
        "  -t \"1.mp4.mp4\" \\\n",
        "  -o \"1.mp4\" \\\n",
        "  --keep-frames \\\n",
        "  --keep-fps \\\n",
        "  --frame-scale 2.5 \\\n",
        "  --temp-frame-quality 1 \\\n",
        "  --output-video-quality 1 \\\n",
        "  --execution-provider cuda \\\n",
        "  --frame-processor face_swapper face_enhancer \\\n",
        "  --face-enhancer-model GFPGANv1.4"
      ],
      "metadata": {
        "id": "EW0RuwfISmNE"
      },
      "execution_count": null,
      "outputs": []
    }
  ]
}